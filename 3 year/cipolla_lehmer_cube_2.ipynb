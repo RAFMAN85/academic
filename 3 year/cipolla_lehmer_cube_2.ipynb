{
 "cells": [
  {
   "cell_type": "code",
   "execution_count": 37,
   "metadata": {
    "pycharm": {
     "name": "#%%\n"
    }
   },
   "outputs": [
    {
     "name": "stdout",
     "output_type": "stream",
     "text": [
      "alfa, beta =  11 , 10\n",
      "Root:  10\n",
      "Test value roots: [4, 10, 12]\n",
      "Computed root is in test value roots: True\n",
      "alfa, beta =  25 , 7\n",
      "Root:  21\n",
      "Test value roots: [12, 21, 29]\n",
      "Computed root is in test value roots: True\n",
      "alfa, beta =  48 , 117\n",
      "Root:  16\n",
      "Test value roots: [16, 50, 61]\n",
      "Computed root is in test value roots: True\n",
      "alfa, beta =  3561 , 6381\n",
      "Root:  6547\n",
      "Test value roots: [4541, 6547, 8930]\n",
      "Computed root is in test value roots: True\n",
      "alfa, beta =  2374 , 357\n",
      "Root:  9282*x^2 + 6653*x + 8408\n",
      "Test value roots: [8774]\n",
      "Computed root is in test value roots: False\n"
     ]
    }
   ],
   "source": [
    "from sage.misc.prandom import randrange\n",
    "\n",
    "\n",
    "CUBE_TEST_VALUES = [[12, 13, 4, 10, 12], [23, 31, 12, 21, 29], [32, 127, 16, 50, 61],\n",
    "                    [3542, 10009, 4541, 6547, 8930], [4910, 10007, 8774]]\n",
    "\n",
    "\n",
    "def check_alfa(alfa, q):\n",
    "    return pow(alfa, (q - 1) // 3, q) != 1\n",
    "\n",
    "\n",
    "def cipolla_lehmer_cube_improved(a, q):\n",
    "    if q not in Primes():\n",
    "        print(\"q is not prime\")\n",
    "        return -1\n",
    "    alfa, beta = 0, 0\n",
    "    while 42:\n",
    "        beta = randrange(0, q - 1)\n",
    "        alfa = (a + beta^3) % q\n",
    "        if alfa == 0:\n",
    "            return -beta % q\n",
    "        if check_alfa(alfa, q):\n",
    "            break\n",
    "    print(\"alfa, beta = \", alfa, \",\", beta)\n",
    "    R = PolynomialRing(GF(q), 'x').quotient((x + beta)^3 - alfa, 'x').gen()\n",
    "    r = R^((q^2 + q + 1) // 3)\n",
    "    return r\n",
    "\n",
    "\n",
    "for test in CUBE_TEST_VALUES:\n",
    "    cube_root = cipolla_lehmer_cube_improved(test[0], test[1])\n",
    "    print(\"Root: \", cube_root)\n",
    "    print(\"Test value roots:\", test[2::1])\n",
    "    print(\"Computed root is in test value roots:\", cube_root in test[2::])\n"
   ]
  },
  {
   "cell_type": "code",
   "execution_count": null,
   "metadata": {
    "pycharm": {
     "name": "#%%\n"
    }
   },
   "outputs": [],
   "source": []
  }
 ],
 "metadata": {
  "kernelspec": {
   "display_name": "SageMath 9.4",
   "language": "sage",
   "name": "sagemath-9.4"
  },
  "language_info": {
   "codemirror_mode": {
    "name": "ipython",
    "version": 3
   },
   "file_extension": ".py",
   "mimetype": "text/x-python",
   "name": "python",
   "nbconvert_exporter": "python",
   "pygments_lexer": "ipython3",
   "version": "3.9.5"
  }
 },
 "nbformat": 4,
 "nbformat_minor": 4
}